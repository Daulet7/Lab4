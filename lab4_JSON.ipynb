{
 "cells": [
  {
   "cell_type": "code",
   "execution_count": 77,
   "id": "623c79b2-3a65-4a20-8868-b1cbdd4be439",
   "metadata": {},
   "outputs": [
    {
     "name": "stdout",
     "output_type": "stream",
     "text": [
      "Interface status\n",
      "================================================================================\n",
      "DN                                                 Description           Speed\n",
      "-------------------------------------------------------------------   ----------\n",
      "18\n",
      "topology/pod-1/node-201/sys/phys-[eth1/33]                              inherit\n",
      "topology/pod-1/node-201/sys/phys-[eth1/34]                              inherit\n",
      "topology/pod-1/node-201/sys/phys-[eth1/35]                              inherit\n",
      "topology/pod-1/node-201/sys/phys-[eth1/36]                              inherit\n",
      "topology/pod-1/node-201/sys/phys-[eth1/1]                               inherit\n",
      "topology/pod-1/node-201/sys/phys-[eth1/2]                               inherit\n",
      "topology/pod-1/node-201/sys/phys-[eth1/3]                               inherit\n",
      "topology/pod-1/node-201/sys/phys-[eth1/4]                               inherit\n",
      "topology/pod-1/node-201/sys/phys-[eth1/5]                               inherit\n",
      "topology/pod-1/node-201/sys/phys-[eth1/6]                               inherit\n",
      "topology/pod-1/node-201/sys/phys-[eth1/7]                               inherit\n",
      "topology/pod-1/node-201/sys/phys-[eth1/8]                               inherit\n",
      "topology/pod-1/node-201/sys/phys-[eth1/9]                               inherit\n",
      "topology/pod-1/node-201/sys/phys-[eth1/10]                              inherit\n",
      "topology/pod-1/node-201/sys/phys-[eth1/11]                              inherit\n",
      "topology/pod-1/node-201/sys/phys-[eth1/12]                              inherit\n",
      "topology/pod-1/node-201/sys/phys-[eth1/13]                              inherit\n",
      "topology/pod-1/node-201/sys/phys-[eth1/14]                              inherit\n"
     ]
    }
   ],
   "source": [
    "import json\n",
    "with open(r\"C:\\Users\\HP\\Downloads\\sample-data.json\") as file:\n",
    "    a = json.load(file)\n",
    "print(\"Interface status\")\n",
    "print(\"=\"*80)\n",
    "print(f\"{'DN'}                                                 {'Description'}           {'Speed'}\")\n",
    "print(\"-\"*67, \" \", \"-\"*10)\n",
    "i = a['imdata']\n",
    "print(len(i))\n",
    "for t in range(len(i)):\n",
    "    ans = a['imdata'][t]['l1PhysIf']['attributes']\n",
    "    print(f\"{ans.get('dn'):<50} {ans.get('descr'):<20} {ans.get('speed',)}\")"
   ]
  },
  {
   "cell_type": "code",
   "execution_count": null,
   "id": "5395fba2-5686-4493-8b3a-936c0763a2b2",
   "metadata": {},
   "outputs": [],
   "source": []
  }
 ],
 "metadata": {
  "kernelspec": {
   "display_name": "Python [conda env:base] *",
   "language": "python",
   "name": "conda-base-py"
  },
  "language_info": {
   "codemirror_mode": {
    "name": "ipython",
    "version": 3
   },
   "file_extension": ".py",
   "mimetype": "text/x-python",
   "name": "python",
   "nbconvert_exporter": "python",
   "pygments_lexer": "ipython3",
   "version": "3.12.7"
  }
 },
 "nbformat": 4,
 "nbformat_minor": 5
}
