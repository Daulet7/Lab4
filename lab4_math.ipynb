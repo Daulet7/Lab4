{
 "cells": [
  {
   "cell_type": "markdown",
   "id": "cbabaf0e-bdbf-49e8-b884-0f8e739fc3b3",
   "metadata": {},
   "source": [
    "1"
   ]
  },
  {
   "cell_type": "code",
   "execution_count": 26,
   "id": "b19c31a6-3762-4d0c-9915-364b7f02469c",
   "metadata": {},
   "outputs": [
    {
     "name": "stdin",
     "output_type": "stream",
     "text": [
      "Input degree 15\n"
     ]
    },
    {
     "name": "stdout",
     "output_type": "stream",
     "text": [
      "Output radian: 0.261799\n"
     ]
    }
   ],
   "source": [
    "import math\n",
    "deg = float(input(\"Input degree\"))\n",
    "print(f\"Output radian: {(deg*math.pi/180):.6f}\")"
   ]
  },
  {
   "cell_type": "markdown",
   "id": "68a5544e-5ae0-405a-aaef-63b9d30fa936",
   "metadata": {},
   "source": [
    "2"
   ]
  },
  {
   "cell_type": "code",
   "execution_count": 24,
   "id": "3e7ba259-c999-458f-bd1a-3955c57fa2c2",
   "metadata": {},
   "outputs": [
    {
     "name": "stdin",
     "output_type": "stream",
     "text": [
      "Height 5\n",
      "First base 5\n",
      "Second base 6\n"
     ]
    },
    {
     "name": "stdout",
     "output_type": "stream",
     "text": [
      "Expected value: 27.5\n"
     ]
    }
   ],
   "source": [
    "h = float(input(\"Height\"))\n",
    "base_1 = float(input(\"First base\"))\n",
    "base_2 = float(input(\"Second base\"))\n",
    "print(f\"Expected value: {(base_1 + base_2)/2*h}\")"
   ]
  },
  {
   "cell_type": "markdown",
   "id": "20f6dcaf-6c53-41af-b298-1ffd1dc22959",
   "metadata": {},
   "source": [
    "3"
   ]
  },
  {
   "cell_type": "code",
   "execution_count": 38,
   "id": "b12117aa-8c42-4a96-b97d-04a107038d77",
   "metadata": {},
   "outputs": [
    {
     "name": "stdin",
     "output_type": "stream",
     "text": [
      "Number of sides 4\n",
      "Length of a side 25\n"
     ]
    },
    {
     "name": "stdout",
     "output_type": "stream",
     "text": [
      "The area of polygon: 625.00\n"
     ]
    }
   ],
   "source": [
    "import math\n",
    "sides = int(input(\"Number of sides\"))\n",
    "length = float(input(\"Length of a side\"))\n",
    "print(f\"The area of polygon: {((sides*pow(length, 2))/(4*math.tan(math.pi/sides))):.2f}\")"
   ]
  },
  {
   "cell_type": "markdown",
   "id": "0378e6ab-0e3f-49d3-bc6a-8a233c924d4d",
   "metadata": {},
   "source": [
    "4"
   ]
  },
  {
   "cell_type": "code",
   "execution_count": 42,
   "id": "c1709e90-91b5-4bc4-85dd-222f7c3f2d8d",
   "metadata": {},
   "outputs": [
    {
     "name": "stdin",
     "output_type": "stream",
     "text": [
      "length of base: 5\n",
      "Height of parallelogram: 6\n"
     ]
    },
    {
     "name": "stdout",
     "output_type": "stream",
     "text": [
      "Expected Output: 30.00\n"
     ]
    }
   ],
   "source": [
    "import math\n",
    "base = float(input(\"length of base:\"))\n",
    "h = float(input(\"Height of parallelogram:\"))\n",
    "print(f\"Expected Output: {(base*h):.2f}\")"
   ]
  },
  {
   "cell_type": "code",
   "execution_count": null,
   "id": "183963f2-079a-48c5-8914-cedc4b9dcf90",
   "metadata": {},
   "outputs": [],
   "source": []
  }
 ],
 "metadata": {
  "kernelspec": {
   "display_name": "Python [conda env:base] *",
   "language": "python",
   "name": "conda-base-py"
  },
  "language_info": {
   "codemirror_mode": {
    "name": "ipython",
    "version": 3
   },
   "file_extension": ".py",
   "mimetype": "text/x-python",
   "name": "python",
   "nbconvert_exporter": "python",
   "pygments_lexer": "ipython3",
   "version": "3.12.7"
  }
 },
 "nbformat": 4,
 "nbformat_minor": 5
}
