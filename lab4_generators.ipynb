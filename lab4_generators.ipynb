{
 "cells": [
  {
   "cell_type": "markdown",
   "id": "41d7a684-4dce-4f42-8237-bcd4bd910943",
   "metadata": {},
   "source": [
    "1"
   ]
  },
  {
   "cell_type": "code",
   "execution_count": 1,
   "id": "ce17eab4-f06f-4729-aaf2-3adfd7f76f72",
   "metadata": {},
   "outputs": [
    {
     "name": "stdin",
     "output_type": "stream",
     "text": [
      "Number: 5\n"
     ]
    },
    {
     "name": "stdout",
     "output_type": "stream",
     "text": [
      "0\n",
      "1\n",
      "4\n",
      "9\n",
      "16\n",
      "25\n"
     ]
    }
   ],
   "source": [
    "class sq:\n",
    "    def __init__(self,n):\n",
    "        self.n=n\n",
    "        self.current = 0\n",
    "    def __iter__(self):\n",
    "        return self\n",
    "    def __next__(self):\n",
    "        if self.current <= self.n:\n",
    "            result = self.current**2\n",
    "            self.current += 1\n",
    "            return result\n",
    "        else:\n",
    "            raise StopIteration\n",
    "N = int(input(\"Number:\"))\n",
    "myiter = sq(N)\n",
    "for i in myiter:\n",
    "    print(i)"
   ]
  },
  {
   "cell_type": "markdown",
   "id": "9df465e8-45c1-48e5-a665-786d85ed8bcf",
   "metadata": {},
   "source": [
    "2"
   ]
  },
  {
   "cell_type": "code",
   "execution_count": 3,
   "id": "10ed406c-a58f-408c-9690-582407922496",
   "metadata": {},
   "outputs": [
    {
     "name": "stdin",
     "output_type": "stream",
     "text": [
      "Number 19\n"
     ]
    },
    {
     "name": "stdout",
     "output_type": "stream",
     "text": [
      "2\n",
      "4\n",
      "6\n",
      "8\n",
      "10\n",
      "12\n",
      "14\n",
      "16\n",
      "18\n"
     ]
    }
   ],
   "source": [
    "class even:\n",
    "    def __init__(self, n):\n",
    "        self.n = n\n",
    "        self.current = 2\n",
    "    def __iter__(self):\n",
    "        return self\n",
    "    def __next__(self):\n",
    "        if self.current < self.n:\n",
    "            result = self.current\n",
    "            self.current += 2\n",
    "            return result\n",
    "        else:\n",
    "            raise StopIteration\n",
    "N = int(input(\"Number\"))\n",
    "mygen = even(N)\n",
    "for i in mygen:\n",
    "    print(i)"
   ]
  },
  {
   "cell_type": "markdown",
   "id": "b3e5aec1-29ae-47ef-bd9c-ec735fb18a5c",
   "metadata": {},
   "source": [
    "3"
   ]
  },
  {
   "cell_type": "code",
   "execution_count": 1,
   "id": "de8c1e96-8a5d-41cc-9796-2439ff5f9923",
   "metadata": {},
   "outputs": [
    {
     "name": "stdin",
     "output_type": "stream",
     "text": [
      "Number 100\n"
     ]
    },
    {
     "name": "stdout",
     "output_type": "stream",
     "text": [
      "0\n",
      "3\n",
      "4\n",
      "6\n",
      "8\n",
      "9\n",
      "12\n",
      "15\n",
      "16\n",
      "18\n",
      "20\n",
      "21\n",
      "24\n",
      "27\n",
      "28\n",
      "30\n",
      "32\n",
      "33\n",
      "36\n",
      "39\n",
      "40\n",
      "42\n",
      "44\n",
      "45\n",
      "48\n",
      "51\n",
      "52\n",
      "54\n",
      "56\n",
      "57\n",
      "60\n",
      "63\n",
      "64\n",
      "66\n",
      "68\n",
      "69\n",
      "72\n",
      "75\n",
      "76\n",
      "78\n",
      "80\n",
      "81\n",
      "84\n",
      "87\n",
      "88\n",
      "90\n",
      "92\n",
      "93\n",
      "96\n",
      "99\n",
      "100\n"
     ]
    }
   ],
   "source": [
    "class div:\n",
    "    def __init__(self, n):\n",
    "        self.n = n\n",
    "        self.current = 0\n",
    "    def __iter__(self):\n",
    "        return self\n",
    "    def __next__(self):\n",
    "        while self.current <= self.n:\n",
    "            if self.current % 3 == 0 or self.current % 4 == 0:\n",
    "                result = self.current\n",
    "                self.current += 1\n",
    "                return result\n",
    "            self.current+=1\n",
    "        raise StopIteration\n",
    "n = int(input(\"Number\"))\n",
    "a = div(n)\n",
    "for i in a:\n",
    "    print(i)"
   ]
  },
  {
   "cell_type": "markdown",
   "id": "e3a019e5-7a39-44be-8e63-d3f7e832ae4b",
   "metadata": {},
   "source": [
    "4"
   ]
  },
  {
   "cell_type": "code",
   "execution_count": 8,
   "id": "a03da886-7a13-467e-a9d8-4bcfe3c0739c",
   "metadata": {},
   "outputs": [
    {
     "name": "stdin",
     "output_type": "stream",
     "text": [
      "a 1\n",
      "b 10\n"
     ]
    },
    {
     "name": "stdout",
     "output_type": "stream",
     "text": [
      "1\n",
      "4\n",
      "9\n",
      "16\n",
      "25\n",
      "36\n",
      "49\n",
      "64\n",
      "81\n",
      "100\n"
     ]
    }
   ],
   "source": [
    "N=[]\n",
    "def squares(a, b):\n",
    "    for i in range(a,b+1):\n",
    "        N.append(i**2)\n",
    "a = int(input('a'))\n",
    "b = int(input('b'))\n",
    "squares(a, b)\n",
    "for i in N:\n",
    "    print(i)"
   ]
  },
  {
   "cell_type": "markdown",
   "id": "dfa866ca-f2ed-4512-b6c3-fae635170e3f",
   "metadata": {},
   "source": [
    "5"
   ]
  },
  {
   "cell_type": "code",
   "execution_count": 1,
   "id": "4638d38e-fa0e-451e-aa71-d4beb6edc671",
   "metadata": {},
   "outputs": [
    {
     "name": "stdin",
     "output_type": "stream",
     "text": [
      " 15\n"
     ]
    },
    {
     "name": "stdout",
     "output_type": "stream",
     "text": [
      "15\n",
      "14\n",
      "13\n",
      "12\n",
      "11\n",
      "10\n",
      "9\n",
      "8\n",
      "7\n",
      "6\n",
      "5\n",
      "4\n",
      "3\n",
      "2\n",
      "1\n",
      "0\n"
     ]
    }
   ],
   "source": [
    "n = int(input())\n",
    "for i in range(n, -1, -1):\n",
    "    print(i)"
   ]
  },
  {
   "cell_type": "code",
   "execution_count": null,
   "id": "6ceafe1e-330a-47dc-86a2-77712501c7bc",
   "metadata": {},
   "outputs": [],
   "source": []
  }
 ],
 "metadata": {
  "kernelspec": {
   "display_name": "Python [conda env:base] *",
   "language": "python",
   "name": "conda-base-py"
  },
  "language_info": {
   "codemirror_mode": {
    "name": "ipython",
    "version": 3
   },
   "file_extension": ".py",
   "mimetype": "text/x-python",
   "name": "python",
   "nbconvert_exporter": "python",
   "pygments_lexer": "ipython3",
   "version": "3.12.7"
  }
 },
 "nbformat": 4,
 "nbformat_minor": 5
}
