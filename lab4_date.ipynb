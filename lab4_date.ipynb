{
 "cells": [
  {
   "cell_type": "markdown",
   "id": "28feee63-efb1-470b-8191-23149963117c",
   "metadata": {},
   "source": [
    "1"
   ]
  },
  {
   "cell_type": "code",
   "execution_count": 33,
   "id": "6e2ec41e-8cf5-44a0-8bd9-6c2f9e1446fa",
   "metadata": {},
   "outputs": [
    {
     "name": "stdout",
     "output_type": "stream",
     "text": [
      "2025-02-11 19:03:17\n"
     ]
    }
   ],
   "source": [
    "import datetime\n",
    "now = datetime.datetime.now()\n",
    "x = datetime.datetime(now.year, now.month, now.day - 5, now.hour, now.minute, now.second)\n",
    "print(x)"
   ]
  },
  {
   "cell_type": "markdown",
   "id": "6f873c72-c8ee-46fe-a6d4-5c165a7b15c2",
   "metadata": {},
   "source": [
    "2"
   ]
  },
  {
   "cell_type": "code",
   "execution_count": 39,
   "id": "bffbc776-e08d-4cc9-982a-8a77256b9517",
   "metadata": {},
   "outputs": [
    {
     "name": "stdout",
     "output_type": "stream",
     "text": [
      "Yesterday: 2025-02-15 19:06:02; Today: 2025-02-16 19:06:02; Tomorrow: 2025-02-17 19:06:02\n"
     ]
    }
   ],
   "source": [
    "import datetime\n",
    "now = datetime.datetime.now()\n",
    "yest = datetime.datetime(now.year, now.month, now.day - 1, now.hour, now.minute, now.second)\n",
    "today = datetime.datetime(now.year, now.month, now.day, now.hour, now.minute, now.second)\n",
    "tom = datetime.datetime(now.year, now.month, now.day + 1, now.hour, now.minute, now.second)\n",
    "print(f\"Yesterday: {yest}; Today: {today}; Tomorrow: {tom}\")"
   ]
  },
  {
   "cell_type": "markdown",
   "id": "b978221b-4c7c-40e6-9b6b-fa9acfe063be",
   "metadata": {},
   "source": [
    "3"
   ]
  },
  {
   "cell_type": "code",
   "execution_count": 49,
   "id": "ae83da44-6222-47f1-a402-ac098aeab152",
   "metadata": {},
   "outputs": [
    {
     "name": "stdout",
     "output_type": "stream",
     "text": [
      "19:10:55.708066\n"
     ]
    }
   ],
   "source": [
    "import datetime\n",
    "import time\n",
    "now = datetime.datetime.now()\n",
    "sw = datetime.time(now.hour, now.minute, now.second, now.microsecond)\n",
    "print(sw)"
   ]
  },
  {
   "cell_type": "markdown",
   "id": "eba54cee-b3fb-44b5-83af-bceef48f7941",
   "metadata": {},
   "source": [
    "4"
   ]
  },
  {
   "cell_type": "code",
   "execution_count": 63,
   "id": "cafb4e7d-db2a-4363-897a-52ed575c7cd6",
   "metadata": {},
   "outputs": [
    {
     "name": "stdin",
     "output_type": "stream",
     "text": [
      "Year: 2024\n",
      "Month: 8\n",
      "Day: 28\n",
      "Hour 7\n",
      "Minute 48\n",
      "Second 30\n"
     ]
    },
    {
     "name": "stdout",
     "output_type": "stream",
     "text": [
      "Difference: 14902538.0\n"
     ]
    }
   ],
   "source": [
    "import datetime\n",
    "now = datetime.datetime.now()\n",
    "a = datetime.datetime(now.year, now.month, now.day, now.hour, now.minute, now.second)\n",
    "b = datetime.datetime(int(input(\"Year:\")), int(input(\"Month:\")), int(input(\"Day:\")), int(input(\"Hour\")), int(input(\"Minute\")), int(input(\"Second\")))\n",
    "print(f\"Difference: {(a-b).total_seconds()}\")"
   ]
  },
  {
   "cell_type": "code",
   "execution_count": null,
   "id": "40268b05-ae6a-4f66-89e7-a32ffb777bfe",
   "metadata": {},
   "outputs": [],
   "source": []
  }
 ],
 "metadata": {
  "kernelspec": {
   "display_name": "Python [conda env:base] *",
   "language": "python",
   "name": "conda-base-py"
  },
  "language_info": {
   "codemirror_mode": {
    "name": "ipython",
    "version": 3
   },
   "file_extension": ".py",
   "mimetype": "text/x-python",
   "name": "python",
   "nbconvert_exporter": "python",
   "pygments_lexer": "ipython3",
   "version": "3.12.7"
  }
 },
 "nbformat": 4,
 "nbformat_minor": 5
}
